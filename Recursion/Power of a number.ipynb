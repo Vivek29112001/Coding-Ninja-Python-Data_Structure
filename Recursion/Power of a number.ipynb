{
 "cells": [
  {
   "cell_type": "markdown",
   "id": "86a4aabe",
   "metadata": {},
   "source": [
    "## power of a number"
   ]
  },
  {
   "cell_type": "code",
   "execution_count": null,
   "id": "9c6ee9ca",
   "metadata": {},
   "outputs": [],
   "source": [
    "def power(x,n):\n",
    "    if n==0:\n",
    "        return 1\n",
    "    return (x*power(x,n-1))"
   ]
  },
  {
   "cell_type": "code",
   "execution_count": null,
   "id": "1d3dfa1f",
   "metadata": {},
   "outputs": [],
   "source": [
    "x = int(input(\"for x : \"))\n",
    "n=int(input(\"for n : \"))\n",
    "print(power(x,n))"
   ]
  }
 ],
 "metadata": {
  "kernelspec": {
   "display_name": "Python 3 (ipykernel)",
   "language": "python",
   "name": "python3"
  },
  "language_info": {
   "codemirror_mode": {
    "name": "ipython",
    "version": 3
   },
   "file_extension": ".py",
   "mimetype": "text/x-python",
   "name": "python",
   "nbconvert_exporter": "python",
   "pygments_lexer": "ipython3",
   "version": "3.9.7"
  }
 },
 "nbformat": 4,
 "nbformat_minor": 5
}
