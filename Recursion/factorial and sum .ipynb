{
 "cells": [
  {
   "cell_type": "markdown",
   "id": "984c6699",
   "metadata": {},
   "source": [
    "## sum of n natural number"
   ]
  },
  {
   "cell_type": "code",
   "execution_count": 9,
   "id": "21f0b19f",
   "metadata": {},
   "outputs": [],
   "source": [
    "def sum_n(n):\n",
    "    if n==0:\n",
    "        return 0\n",
    "    smallOutput = sum_n(n-1)\n",
    "    output = smallOutput + n\n",
    "    return output"
   ]
  },
  {
   "cell_type": "code",
   "execution_count": 13,
   "id": "9a45cb01",
   "metadata": {},
   "outputs": [],
   "source": [
    "def fact(n):\n",
    "    if n==0:\n",
    "        return 1\n",
    "    return n*fact(n-1)"
   ]
  },
  {
   "cell_type": "code",
   "execution_count": 27,
   "id": "6d554490",
   "metadata": {},
   "outputs": [],
   "source": [
    "def print_l_to_n(n):\n",
    "    if n==0:\n",
    "        return\n",
    "    print_l_to_n(n-1)\n",
    "    print(n)\n",
    "    return"
   ]
  },
  {
   "cell_type": "code",
   "execution_count": 28,
   "id": "36e61de9",
   "metadata": {},
   "outputs": [],
   "source": [
    "def print_n_to_l(n):\n",
    "    if n==0:\n",
    "        return\n",
    "    print(n)\n",
    "    print_n_to_l(n-1)\n",
    "    "
   ]
  },
  {
   "cell_type": "code",
   "execution_count": 29,
   "id": "fe5848ab",
   "metadata": {},
   "outputs": [
    {
     "name": "stdout",
     "output_type": "stream",
     "text": [
      "4\n",
      "24\n",
      "10\n",
      "4\n",
      "3\n",
      "2\n",
      "1\n"
     ]
    }
   ],
   "source": [
    "n=int(input())\n",
    "print(fact(n))\n",
    "print(sum_n(n))\n",
    "print_n_to_l(n)"
   ]
  },
  {
   "cell_type": "code",
   "execution_count": 1,
   "id": "2076b851",
   "metadata": {},
   "outputs": [],
   "source": [
    " def fib(n):\n",
    "        if n==1 or n==2:\n",
    "            return 1\n",
    "        fib_n_1=fib(n-1)\n",
    "        fib_n_2=fib(n-2)\n",
    "        output= fib_n_1 + fib_n_2\n",
    "        return output\n",
    "        "
   ]
  },
  {
   "cell_type": "code",
   "execution_count": null,
   "id": "39d09fcf",
   "metadata": {},
   "outputs": [],
   "source": [
    "n=5\n",
    "fib(n)"
   ]
  }
 ],
 "metadata": {
  "kernelspec": {
   "display_name": "Python 3 (ipykernel)",
   "language": "python",
   "name": "python3"
  },
  "language_info": {
   "codemirror_mode": {
    "name": "ipython",
    "version": 3
   },
   "file_extension": ".py",
   "mimetype": "text/x-python",
   "name": "python",
   "nbconvert_exporter": "python",
   "pygments_lexer": "ipython3",
   "version": "3.9.7"
  }
 },
 "nbformat": 4,
 "nbformat_minor": 5
}
