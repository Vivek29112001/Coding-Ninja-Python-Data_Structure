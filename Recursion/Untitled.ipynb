{
 "cells": [
  {
   "cell_type": "code",
   "execution_count": 1,
   "id": "d4702c0f",
   "metadata": {},
   "outputs": [],
   "source": [
    "def power(x,n):\n",
    "    if n==0:\n",
    "        return 1\n",
    "    return (x*power(x,n-1))"
   ]
  },
  {
   "cell_type": "code",
   "execution_count": 6,
   "id": "e1c1be20",
   "metadata": {},
   "outputs": [
    {
     "name": "stdout",
     "output_type": "stream",
     "text": [
      "for x : 4\n",
      "for n : 5\n",
      "1024\n"
     ]
    }
   ],
   "source": [
    "x = int(input(\"for x : \"))\n",
    "n=int(input(\"for n : \"))\n",
    "print(power(x,n))"
   ]
  },
  {
   "cell_type": "code",
   "execution_count": null,
   "id": "b19f351f",
   "metadata": {},
   "outputs": [],
   "source": [
    "def func(num):\n",
    "    return func(num-1)\n",
    "num = 5\n",
    "ans = func(num-1)\n",
    "print(ans)"
   ]
  },
  {
   "cell_type": "code",
   "execution_count": null,
   "id": "3df3a62d",
   "metadata": {},
   "outputs": [],
   "source": []
  }
 ],
 "metadata": {
  "kernelspec": {
   "display_name": "Python 3 (ipykernel)",
   "language": "python",
   "name": "python3"
  },
  "language_info": {
   "codemirror_mode": {
    "name": "ipython",
    "version": 3
   },
   "file_extension": ".py",
   "mimetype": "text/x-python",
   "name": "python",
   "nbconvert_exporter": "python",
   "pygments_lexer": "ipython3",
   "version": "3.9.7"
  }
 },
 "nbformat": 4,
 "nbformat_minor": 5
}
