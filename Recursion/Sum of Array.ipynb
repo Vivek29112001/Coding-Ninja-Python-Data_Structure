{
 "cells": [
  {
   "cell_type": "markdown",
   "id": "734523c4",
   "metadata": {},
   "source": [
    "# sum of array"
   ]
  },
  {
   "cell_type": "code",
   "execution_count": 5,
   "id": "eb4441cc",
   "metadata": {},
   "outputs": [
    {
     "name": "stdout",
     "output_type": "stream",
     "text": [
      "2\n",
      "4 5\n",
      "9\n"
     ]
    }
   ],
   "source": [
    "def sumArray(arr):\n",
    "    l=len(arr)\n",
    "    if l==0:\n",
    "        return 0\n",
    "    smallerlist=sumArray(arr[1:])\n",
    "    sum=arr[0] + smallerlist\n",
    "    return sum\n",
    "    pass\n",
    "\n",
    "from sys import setrecursionlimit\n",
    "setrecursionlimit(11000)\n",
    "n=int(input())\n",
    "arr=list(int(i) for i in input().strip().split(' '))\n",
    "print(sumArray(arr))\n"
   ]
  },
  {
   "cell_type": "markdown",
   "id": "31614331",
   "metadata": {},
   "source": [
    "# or"
   ]
  },
  {
   "cell_type": "code",
   "execution_count": 7,
   "id": "e3c1c7b7",
   "metadata": {},
   "outputs": [],
   "source": [
    "def sumarray(arr):\n",
    "    l=len(arr)\n",
    "    if l==0:\n",
    "        return 0\n",
    "    else:\n",
    "        return arr[0] + sumArray(arr[1:])"
   ]
  },
  {
   "cell_type": "code",
   "execution_count": 8,
   "id": "95a21d2f",
   "metadata": {},
   "outputs": [
    {
     "name": "stdout",
     "output_type": "stream",
     "text": [
      "4\n",
      "1 2 5 9\n",
      "17\n"
     ]
    }
   ],
   "source": [
    "from sys import setrecursionlimit\n",
    "setrecursionlimit(11000)\n",
    "n=int(input())\n",
    "arr=list(int(i) for i in input().strip().split(' '))\n",
    "print(sumArray(arr))\n"
   ]
  }
 ],
 "metadata": {
  "kernelspec": {
   "display_name": "Python 3 (ipykernel)",
   "language": "python",
   "name": "python3"
  },
  "language_info": {
   "codemirror_mode": {
    "name": "ipython",
    "version": 3
   },
   "file_extension": ".py",
   "mimetype": "text/x-python",
   "name": "python",
   "nbconvert_exporter": "python",
   "pygments_lexer": "ipython3",
   "version": "3.9.7"
  }
 },
 "nbformat": 4,
 "nbformat_minor": 5
}
