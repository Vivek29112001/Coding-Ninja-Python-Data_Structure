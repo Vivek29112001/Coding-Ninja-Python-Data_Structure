{
 "cells": [
  {
   "cell_type": "code",
   "execution_count": 2,
   "id": "89a3e4fa",
   "metadata": {},
   "outputs": [],
   "source": [
    "def checkNumber(arr, x):\n",
    "    # Please add your code here\n",
    "    l=len(arr)\n",
    "    if l==1:\n",
    "        return x==arr[0]\n",
    "    smallans = checkNumber(arr[:l-1],x)\n",
    "    return smallans or (x==arr[l-1])\n",
    "    pass\n"
   ]
  },
  {
   "cell_type": "code",
   "execution_count": 4,
   "id": "87a560be",
   "metadata": {},
   "outputs": [
    {
     "name": "stdout",
     "output_type": "stream",
     "text": [
      "45\n",
      "4 808080808808\n",
      "56\n",
      "false\n"
     ]
    }
   ],
   "source": [
    "\n",
    "# Main\n",
    "from sys import setrecursionlimit\n",
    "setrecursionlimit(11000)\n",
    "n=int(input())\n",
    "arr=list(int(i) for i in input().strip().split(' '))\n",
    "x=int(input())\n",
    "if checkNumber(arr, x):\n",
    "    print('true')\n",
    "else:\n",
    "    print('false')\n"
   ]
  }
 ],
 "metadata": {
  "kernelspec": {
   "display_name": "Python 3 (ipykernel)",
   "language": "python",
   "name": "python3"
  },
  "language_info": {
   "codemirror_mode": {
    "name": "ipython",
    "version": 3
   },
   "file_extension": ".py",
   "mimetype": "text/x-python",
   "name": "python",
   "nbconvert_exporter": "python",
   "pygments_lexer": "ipython3",
   "version": "3.9.7"
  }
 },
 "nbformat": 4,
 "nbformat_minor": 5
}
